{
 "cells": [
  {
   "cell_type": "code",
   "execution_count": 8,
   "metadata": {},
   "outputs": [
    {
     "data": {
      "text/html": [
       "<div>\n",
       "<style scoped>\n",
       "    .dataframe tbody tr th:only-of-type {\n",
       "        vertical-align: middle;\n",
       "    }\n",
       "\n",
       "    .dataframe tbody tr th {\n",
       "        vertical-align: top;\n",
       "    }\n",
       "\n",
       "    .dataframe thead th {\n",
       "        text-align: right;\n",
       "    }\n",
       "</style>\n",
       "<table border=\"1\" class=\"dataframe\">\n",
       "  <thead>\n",
       "    <tr style=\"text-align: right;\">\n",
       "      <th></th>\n",
       "      <th>name</th>\n",
       "      <th>address</th>\n",
       "      <th>tel</th>\n",
       "      <th>shop_code</th>\n",
       "    </tr>\n",
       "  </thead>\n",
       "  <tbody>\n",
       "    <tr>\n",
       "      <th>599</th>\n",
       "      <td>ハニーズ　川内プラッセ店</td>\n",
       "      <td>鹿児島県薩摩川内市矢倉町4213-1　プラッセだいわ川内店・２Ｆ</td>\n",
       "      <td>0996-20-8210</td>\n",
       "      <td>913</td>\n",
       "    </tr>\n",
       "    <tr>\n",
       "      <th>595</th>\n",
       "      <td>ハニーズ　イオンタウン姶良店</td>\n",
       "      <td>鹿児島県姶良市西餅田264-1　イオンタウン姶良・３Ｆ</td>\n",
       "      <td>0995-73-5595</td>\n",
       "      <td>1123</td>\n",
       "    </tr>\n",
       "    <tr>\n",
       "      <th>600</th>\n",
       "      <td>ハニーズ　フレスポ国分店</td>\n",
       "      <td>鹿児島県霧島市国分広瀬2丁目4-1　フレスポ国分・１Ｆ</td>\n",
       "      <td>0995-47-0255</td>\n",
       "      <td>898</td>\n",
       "    </tr>\n",
       "    <tr>\n",
       "      <th>594</th>\n",
       "      <td>ハニーズ　出水プラッセ店</td>\n",
       "      <td>鹿児島県出水市本町4-45　プラッセだいわ出水店・１Ｆ</td>\n",
       "      <td>099-668-1320</td>\n",
       "      <td>1234</td>\n",
       "    </tr>\n",
       "    <tr>\n",
       "      <th>593</th>\n",
       "      <td>ハニーズ　フレスポジャングルパーク店</td>\n",
       "      <td>鹿児島県鹿児島市与次郎1丁目11-1　フレスポジャングルパーク・２Ｆ</td>\n",
       "      <td>099-296-8272</td>\n",
       "      <td>1242</td>\n",
       "    </tr>\n",
       "    <tr>\n",
       "      <th>...</th>\n",
       "      <td>...</td>\n",
       "      <td>...</td>\n",
       "      <td>...</td>\n",
       "      <td>...</td>\n",
       "    </tr>\n",
       "    <tr>\n",
       "      <th>544</th>\n",
       "      <td>ハニーズ　いの店</td>\n",
       "      <td>高知県吾川郡いの町205番地　サニーアクシスいの店・１Ｆ</td>\n",
       "      <td>088-892-0255</td>\n",
       "      <td>657</td>\n",
       "    </tr>\n",
       "    <tr>\n",
       "      <th>543</th>\n",
       "      <td>ハニーズ　高知イオン店</td>\n",
       "      <td>高知県高知市旭町3丁目94　イオン高知旭町店・２Ｆ</td>\n",
       "      <td>088-873-3223</td>\n",
       "      <td>433</td>\n",
       "    </tr>\n",
       "    <tr>\n",
       "      <th>541</th>\n",
       "      <td>ハニーズ　高知葛島店</td>\n",
       "      <td>高知県高知市小倉町3番30号　フジグラン葛島・１Ｆ</td>\n",
       "      <td>088-861-3112</td>\n",
       "      <td>848</td>\n",
       "    </tr>\n",
       "    <tr>\n",
       "      <th>590</th>\n",
       "      <td>ハニーズ　徳島ゆめタウン店</td>\n",
       "      <td>徳島県板野郡藍住町奥野字東中須88番地の1　ゆめタウン徳島・２Ｆ</td>\n",
       "      <td>088-678-6552</td>\n",
       "      <td>1002</td>\n",
       "    </tr>\n",
       "    <tr>\n",
       "      <th>591</th>\n",
       "      <td>ハニーズ　徳島石井店</td>\n",
       "      <td>徳島県名西郡石井町高川原字天神544番地1　フジグラン石井・１Ｆ</td>\n",
       "      <td>088-674-5773</td>\n",
       "      <td>512</td>\n",
       "    </tr>\n",
       "  </tbody>\n",
       "</table>\n",
       "<p>100 rows × 4 columns</p>\n",
       "</div>"
      ],
      "text/plain": [
       "                   name                             address           tel  \\\n",
       "599        ハニーズ　川内プラッセ店    鹿児島県薩摩川内市矢倉町4213-1　プラッセだいわ川内店・２Ｆ  0996-20-8210   \n",
       "595      ハニーズ　イオンタウン姶良店         鹿児島県姶良市西餅田264-1　イオンタウン姶良・３Ｆ  0995-73-5595   \n",
       "600        ハニーズ　フレスポ国分店         鹿児島県霧島市国分広瀬2丁目4-1　フレスポ国分・１Ｆ  0995-47-0255   \n",
       "594        ハニーズ　出水プラッセ店         鹿児島県出水市本町4-45　プラッセだいわ出水店・１Ｆ  099-668-1320   \n",
       "593  ハニーズ　フレスポジャングルパーク店  鹿児島県鹿児島市与次郎1丁目11-1　フレスポジャングルパーク・２Ｆ  099-296-8272   \n",
       "..                  ...                                 ...           ...   \n",
       "544            ハニーズ　いの店        高知県吾川郡いの町205番地　サニーアクシスいの店・１Ｆ  088-892-0255   \n",
       "543         ハニーズ　高知イオン店           高知県高知市旭町3丁目94　イオン高知旭町店・２Ｆ  088-873-3223   \n",
       "541          ハニーズ　高知葛島店           高知県高知市小倉町3番30号　フジグラン葛島・１Ｆ  088-861-3112   \n",
       "590       ハニーズ　徳島ゆめタウン店    徳島県板野郡藍住町奥野字東中須88番地の1　ゆめタウン徳島・２Ｆ  088-678-6552   \n",
       "591          ハニーズ　徳島石井店    徳島県名西郡石井町高川原字天神544番地1　フジグラン石井・１Ｆ  088-674-5773   \n",
       "\n",
       "     shop_code  \n",
       "599        913  \n",
       "595       1123  \n",
       "600        898  \n",
       "594       1234  \n",
       "593       1242  \n",
       "..         ...  \n",
       "544        657  \n",
       "543        433  \n",
       "541        848  \n",
       "590       1002  \n",
       "591        512  \n",
       "\n",
       "[100 rows x 4 columns]"
      ]
     },
     "execution_count": 8,
     "metadata": {},
     "output_type": "execute_result"
    }
   ],
   "source": [
    "import pandas as pd\n",
    "\n",
    "df = pd.read_json(\"../shop_crawling/shop_list.json\")\n",
    "\n",
    "df.sort_values(\"tel\",ascending=False, inplace=True)\n",
    "df.head(100)"
   ]
  },
  {
   "cell_type": "code",
   "execution_count": 9,
   "metadata": {},
   "outputs": [
    {
     "data": {
      "text/plain": [
       "671"
      ]
     },
     "execution_count": 9,
     "metadata": {},
     "output_type": "execute_result"
    }
   ],
   "source": [
    "len(df)\n"
   ]
  }
 ],
 "metadata": {
  "kernelspec": {
   "display_name": "Python 3",
   "language": "python",
   "name": "python3"
  },
  "language_info": {
   "codemirror_mode": {
    "name": "ipython",
    "version": 3
   },
   "file_extension": ".py",
   "mimetype": "text/x-python",
   "name": "python",
   "nbconvert_exporter": "python",
   "pygments_lexer": "ipython3",
   "version": "3.10.4"
  },
  "orig_nbformat": 4,
  "vscode": {
   "interpreter": {
    "hash": "3ad933181bd8a04b432d3370b9dc3b0662ad032c4dfaa4e4f1596c548f763858"
   }
  }
 },
 "nbformat": 4,
 "nbformat_minor": 2
}
